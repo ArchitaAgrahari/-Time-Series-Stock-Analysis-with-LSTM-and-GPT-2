{
  "nbformat": 4,
  "nbformat_minor": 0,
  "metadata": {
    "colab": {
      "provenance": []
    },
    "kernelspec": {
      "name": "python3",
      "display_name": "Python 3"
    },
    "language_info": {
      "name": "python"
    }
  },
  "cells": [
    {
      "cell_type": "code",
      "execution_count": null,
      "metadata": {
        "colab": {
          "base_uri": "https://localhost:8080/"
        },
        "id": "vnyMF0QMt5FJ",
        "outputId": "866ad3ea-0233-4ea3-a1cd-abb780342cf0"
      },
      "outputs": [
        {
          "output_type": "stream",
          "name": "stdout",
          "text": [
            "Requirement already satisfied: yfinance in /usr/local/lib/python3.10/dist-packages (0.2.49)\n",
            "Requirement already satisfied: numpy in /usr/local/lib/python3.10/dist-packages (1.26.4)\n",
            "Requirement already satisfied: matplotlib in /usr/local/lib/python3.10/dist-packages (3.8.0)\n",
            "Requirement already satisfied: torch in /usr/local/lib/python3.10/dist-packages (2.5.1+cu121)\n",
            "Requirement already satisfied: transformers in /usr/local/lib/python3.10/dist-packages (4.46.2)\n",
            "Requirement already satisfied: pandas in /usr/local/lib/python3.10/dist-packages (2.2.2)\n",
            "Requirement already satisfied: requests>=2.31 in /usr/local/lib/python3.10/dist-packages (from yfinance) (2.32.3)\n",
            "Requirement already satisfied: multitasking>=0.0.7 in /usr/local/lib/python3.10/dist-packages (from yfinance) (0.0.11)\n",
            "Requirement already satisfied: lxml>=4.9.1 in /usr/local/lib/python3.10/dist-packages (from yfinance) (5.3.0)\n",
            "Requirement already satisfied: platformdirs>=2.0.0 in /usr/local/lib/python3.10/dist-packages (from yfinance) (4.3.6)\n",
            "Requirement already satisfied: pytz>=2022.5 in /usr/local/lib/python3.10/dist-packages (from yfinance) (2024.2)\n",
            "Requirement already satisfied: frozendict>=2.3.4 in /usr/local/lib/python3.10/dist-packages (from yfinance) (2.4.6)\n",
            "Requirement already satisfied: peewee>=3.16.2 in /usr/local/lib/python3.10/dist-packages (from yfinance) (3.17.8)\n",
            "Requirement already satisfied: beautifulsoup4>=4.11.1 in /usr/local/lib/python3.10/dist-packages (from yfinance) (4.12.3)\n",
            "Requirement already satisfied: html5lib>=1.1 in /usr/local/lib/python3.10/dist-packages (from yfinance) (1.1)\n",
            "Requirement already satisfied: contourpy>=1.0.1 in /usr/local/lib/python3.10/dist-packages (from matplotlib) (1.3.1)\n",
            "Requirement already satisfied: cycler>=0.10 in /usr/local/lib/python3.10/dist-packages (from matplotlib) (0.12.1)\n",
            "Requirement already satisfied: fonttools>=4.22.0 in /usr/local/lib/python3.10/dist-packages (from matplotlib) (4.55.0)\n",
            "Requirement already satisfied: kiwisolver>=1.0.1 in /usr/local/lib/python3.10/dist-packages (from matplotlib) (1.4.7)\n",
            "Requirement already satisfied: packaging>=20.0 in /usr/local/lib/python3.10/dist-packages (from matplotlib) (24.2)\n",
            "Requirement already satisfied: pillow>=6.2.0 in /usr/local/lib/python3.10/dist-packages (from matplotlib) (11.0.0)\n",
            "Requirement already satisfied: pyparsing>=2.3.1 in /usr/local/lib/python3.10/dist-packages (from matplotlib) (3.2.0)\n",
            "Requirement already satisfied: python-dateutil>=2.7 in /usr/local/lib/python3.10/dist-packages (from matplotlib) (2.8.2)\n",
            "Requirement already satisfied: filelock in /usr/local/lib/python3.10/dist-packages (from torch) (3.16.1)\n",
            "Requirement already satisfied: typing-extensions>=4.8.0 in /usr/local/lib/python3.10/dist-packages (from torch) (4.12.2)\n",
            "Requirement already satisfied: networkx in /usr/local/lib/python3.10/dist-packages (from torch) (3.4.2)\n",
            "Requirement already satisfied: jinja2 in /usr/local/lib/python3.10/dist-packages (from torch) (3.1.4)\n",
            "Requirement already satisfied: fsspec in /usr/local/lib/python3.10/dist-packages (from torch) (2024.10.0)\n",
            "Requirement already satisfied: sympy==1.13.1 in /usr/local/lib/python3.10/dist-packages (from torch) (1.13.1)\n",
            "Requirement already satisfied: mpmath<1.4,>=1.1.0 in /usr/local/lib/python3.10/dist-packages (from sympy==1.13.1->torch) (1.3.0)\n",
            "Requirement already satisfied: huggingface-hub<1.0,>=0.23.2 in /usr/local/lib/python3.10/dist-packages (from transformers) (0.26.2)\n",
            "Requirement already satisfied: pyyaml>=5.1 in /usr/local/lib/python3.10/dist-packages (from transformers) (6.0.2)\n",
            "Requirement already satisfied: regex!=2019.12.17 in /usr/local/lib/python3.10/dist-packages (from transformers) (2024.9.11)\n",
            "Requirement already satisfied: safetensors>=0.4.1 in /usr/local/lib/python3.10/dist-packages (from transformers) (0.4.5)\n",
            "Requirement already satisfied: tokenizers<0.21,>=0.20 in /usr/local/lib/python3.10/dist-packages (from transformers) (0.20.3)\n",
            "Requirement already satisfied: tqdm>=4.27 in /usr/local/lib/python3.10/dist-packages (from transformers) (4.66.6)\n",
            "Requirement already satisfied: tzdata>=2022.7 in /usr/local/lib/python3.10/dist-packages (from pandas) (2024.2)\n",
            "Requirement already satisfied: soupsieve>1.2 in /usr/local/lib/python3.10/dist-packages (from beautifulsoup4>=4.11.1->yfinance) (2.6)\n",
            "Requirement already satisfied: six>=1.9 in /usr/local/lib/python3.10/dist-packages (from html5lib>=1.1->yfinance) (1.16.0)\n",
            "Requirement already satisfied: webencodings in /usr/local/lib/python3.10/dist-packages (from html5lib>=1.1->yfinance) (0.5.1)\n",
            "Requirement already satisfied: charset-normalizer<4,>=2 in /usr/local/lib/python3.10/dist-packages (from requests>=2.31->yfinance) (3.4.0)\n",
            "Requirement already satisfied: idna<4,>=2.5 in /usr/local/lib/python3.10/dist-packages (from requests>=2.31->yfinance) (3.10)\n",
            "Requirement already satisfied: urllib3<3,>=1.21.1 in /usr/local/lib/python3.10/dist-packages (from requests>=2.31->yfinance) (2.2.3)\n",
            "Requirement already satisfied: certifi>=2017.4.17 in /usr/local/lib/python3.10/dist-packages (from requests>=2.31->yfinance) (2024.8.30)\n",
            "Requirement already satisfied: MarkupSafe>=2.0 in /usr/local/lib/python3.10/dist-packages (from jinja2->torch) (3.0.2)\n"
          ]
        },
        {
          "output_type": "stream",
          "name": "stderr",
          "text": [
            "\r[*********************100%***********************]  1 of 1 completed\n",
            "Token indices sequence length is longer than the specified maximum sequence length for this model (16157 > 1024). Running this sequence through the model will result in indexing errors\n"
          ]
        }
      ],
      "source": [
        "# Install necessary libraries\n",
        "!pip install yfinance numpy matplotlib torch transformers pandas\n",
        "\n",
        "import yfinance as yf\n",
        "import numpy as np\n",
        "import matplotlib.pyplot as plt\n",
        "import torch\n",
        "from transformers import GPT2LMHeadModel, GPT2Tokenizer\n",
        "import pandas as pd\n",
        "\n",
        "# Fetch stock data\n",
        "ticker = \"^NSEI\"\n",
        "start_date = \"2013-01-01\"\n",
        "end_date = \"2023-01-01\"\n",
        "data = yf.download(ticker, start=start_date, end=end_date)\n",
        "\n",
        "# Handle MultiIndex columns for 'Close' prices\n",
        "if not data.empty:\n",
        "    try:\n",
        "        prices = data[(\"Close\", \"^NSEI\")].to_list()  # Correctly access the Close column for '^NSEI'\n",
        "    except KeyError:\n",
        "        print(\"The specified column ('Close', '^NSEI') does not exist. Check the data structure.\")\n",
        "        print(data.columns)  # Debugging step to inspect column names\n",
        "        raise\n",
        "else:\n",
        "    print(\"No data fetched. Please check the ticker symbol or date range.\")\n",
        "    raise SystemExit\n",
        "\n",
        "# Initialize GPT-2 model and tokenizer\n",
        "tokenizer = GPT2Tokenizer.from_pretrained(\"gpt2\")\n",
        "model = GPT2LMHeadModel.from_pretrained(\"gpt2\")\n",
        "\n",
        "# Encode prices as a space-separated string\n",
        "prices_str = \" \".join([str(price) for price in prices])\n",
        "encoded_prices = tokenizer.encode(prices_str, return_tensors=\"pt\")\n"
      ]
    },
    {
      "cell_type": "code",
      "source": [
        "max_length = 1024\n",
        "\n",
        "# Split prices into chunks\n",
        "price_chunks = [\n",
        "    prices_str[i:i + max_length]\n",
        "    for i in range(0, len(prices_str), max_length)\n",
        "]\n",
        "\n",
        "print(f\"Total chunks created: {len(price_chunks)}\")\n"
      ],
      "metadata": {
        "colab": {
          "base_uri": "https://localhost:8080/"
        },
        "id": "60fUDkgEufgA",
        "outputId": "5054685f-f345-4c92-9491-e9d3e0978eaf"
      },
      "execution_count": null,
      "outputs": [
        {
          "output_type": "stream",
          "name": "stdout",
          "text": [
            "Total chunks created: 35\n"
          ]
        }
      ]
    },
    {
      "cell_type": "code",
      "source": [
        "import torch\n",
        "\n",
        "device = torch.device(\"cuda\" if torch.cuda.is_available() else \"cpu\")\n",
        "print(f\"Using device: {device}\")\n",
        "\n",
        "# Move the model to the device\n",
        "model = model.to(device)\n"
      ],
      "metadata": {
        "colab": {
          "base_uri": "https://localhost:8080/"
        },
        "id": "QLNH2NR5vrUg",
        "outputId": "5f1e2087-14a9-4254-8c47-3d630dd71977"
      },
      "execution_count": null,
      "outputs": [
        {
          "output_type": "stream",
          "name": "stdout",
          "text": [
            "Using device: cpu\n"
          ]
        }
      ]
    },
    {
      "cell_type": "code",
      "source": [
        "from torch.optim import Adam\n",
        "\n",
        "# Set optimizer\n",
        "optimizer = Adam(model.parameters(), lr=5e-5)\n",
        "\n",
        "# Training loop for chunks\n",
        "model.train()\n",
        "epochs = 3\n",
        "\n",
        "for epoch in range(epochs):\n",
        "    for i, chunk in enumerate(price_chunks):\n",
        "        # Encode each chunk\n",
        "        encoded_chunk = tokenizer.encode(chunk, return_tensors=\"pt\")\n",
        "        encoded_chunk = encoded_chunk.to(device)  # Ensure compatibility with GPU if available\n",
        "\n",
        "        # Forward pass\n",
        "        model.zero_grad()\n",
        "        outputs = model(encoded_chunk, labels=encoded_chunk)\n",
        "        loss = outputs.loss\n",
        "        print(f\"Epoch {epoch + 1}, Chunk {i + 1}/{len(price_chunks)}, Loss: {loss.item()}\")\n",
        "\n",
        "        # Backward pass\n",
        "        loss.backward()\n",
        "        optimizer.step()\n",
        "\n",
        "\n",
        "\n"
      ],
      "metadata": {
        "colab": {
          "base_uri": "https://localhost:8080/"
        },
        "id": "YKj9zhT4vADC",
        "outputId": "2157cc2a-51f9-4db7-b7c2-584d47d3615b"
      },
      "execution_count": null,
      "outputs": [
        {
          "output_type": "stream",
          "name": "stdout",
          "text": [
            "Epoch 1, Chunk 1/35, Loss: 3.050781488418579\n",
            "Epoch 1, Chunk 2/35, Loss: 2.546844244003296\n",
            "Epoch 1, Chunk 3/35, Loss: 2.4040462970733643\n",
            "Epoch 1, Chunk 4/35, Loss: 2.107149362564087\n",
            "Epoch 1, Chunk 5/35, Loss: 2.0831706523895264\n",
            "Epoch 1, Chunk 6/35, Loss: 2.1096839904785156\n",
            "Epoch 1, Chunk 7/35, Loss: 2.344634532928467\n",
            "Epoch 1, Chunk 8/35, Loss: 2.3764700889587402\n",
            "Epoch 1, Chunk 9/35, Loss: 2.213336229324341\n",
            "Epoch 1, Chunk 10/35, Loss: 2.270172595977783\n",
            "Epoch 1, Chunk 11/35, Loss: 2.092384099960327\n",
            "Epoch 1, Chunk 12/35, Loss: 2.0284030437469482\n",
            "Epoch 1, Chunk 13/35, Loss: 2.062539577484131\n",
            "Epoch 1, Chunk 14/35, Loss: 2.228675127029419\n",
            "Epoch 1, Chunk 15/35, Loss: 1.9042760133743286\n",
            "Epoch 1, Chunk 16/35, Loss: 1.9017374515533447\n",
            "Epoch 1, Chunk 17/35, Loss: 1.9320790767669678\n",
            "Epoch 1, Chunk 18/35, Loss: 1.979243516921997\n",
            "Epoch 1, Chunk 19/35, Loss: 1.8873509168624878\n",
            "Epoch 1, Chunk 20/35, Loss: 1.9924184083938599\n",
            "Epoch 1, Chunk 21/35, Loss: 2.0156242847442627\n",
            "Epoch 1, Chunk 22/35, Loss: 1.8882782459259033\n",
            "Epoch 1, Chunk 23/35, Loss: 1.9355522394180298\n",
            "Epoch 1, Chunk 24/35, Loss: 1.741654872894287\n",
            "Epoch 1, Chunk 25/35, Loss: 1.8846731185913086\n",
            "Epoch 1, Chunk 26/35, Loss: 1.8340922594070435\n",
            "Epoch 1, Chunk 27/35, Loss: 1.78908371925354\n",
            "Epoch 1, Chunk 28/35, Loss: 1.8051573038101196\n",
            "Epoch 1, Chunk 29/35, Loss: 1.8117952346801758\n",
            "Epoch 1, Chunk 30/35, Loss: 1.6986356973648071\n",
            "Epoch 1, Chunk 31/35, Loss: 2.497000217437744\n",
            "Epoch 1, Chunk 32/35, Loss: 2.554129123687744\n",
            "Epoch 1, Chunk 33/35, Loss: 2.260549783706665\n",
            "Epoch 1, Chunk 34/35, Loss: 2.126422882080078\n",
            "Epoch 1, Chunk 35/35, Loss: 2.3254892826080322\n",
            "Epoch 2, Chunk 1/35, Loss: 1.7775871753692627\n",
            "Epoch 2, Chunk 2/35, Loss: 1.703978419303894\n",
            "Epoch 2, Chunk 3/35, Loss: 1.718735694885254\n",
            "Epoch 2, Chunk 4/35, Loss: 1.6546659469604492\n",
            "Epoch 2, Chunk 5/35, Loss: 1.6986149549484253\n",
            "Epoch 2, Chunk 6/35, Loss: 1.648999571800232\n",
            "Epoch 2, Chunk 7/35, Loss: 1.7349913120269775\n",
            "Epoch 2, Chunk 8/35, Loss: 1.7167325019836426\n",
            "Epoch 2, Chunk 9/35, Loss: 1.6964969635009766\n",
            "Epoch 2, Chunk 10/35, Loss: 1.7450098991394043\n",
            "Epoch 2, Chunk 11/35, Loss: 1.673437237739563\n",
            "Epoch 2, Chunk 12/35, Loss: 1.6449326276779175\n",
            "Epoch 2, Chunk 13/35, Loss: 1.58445143699646\n",
            "Epoch 2, Chunk 14/35, Loss: 1.7172667980194092\n",
            "Epoch 2, Chunk 15/35, Loss: 1.487075924873352\n",
            "Epoch 2, Chunk 16/35, Loss: 1.596978783607483\n",
            "Epoch 2, Chunk 17/35, Loss: 1.573652982711792\n",
            "Epoch 2, Chunk 18/35, Loss: 1.6589511632919312\n",
            "Epoch 2, Chunk 19/35, Loss: 1.5515689849853516\n",
            "Epoch 2, Chunk 20/35, Loss: 1.629883050918579\n",
            "Epoch 2, Chunk 21/35, Loss: 1.6712980270385742\n",
            "Epoch 2, Chunk 22/35, Loss: 1.6201014518737793\n",
            "Epoch 2, Chunk 23/35, Loss: 1.677564263343811\n",
            "Epoch 2, Chunk 24/35, Loss: 1.5583707094192505\n",
            "Epoch 2, Chunk 25/35, Loss: 1.6400598287582397\n",
            "Epoch 2, Chunk 26/35, Loss: 1.6814781427383423\n",
            "Epoch 2, Chunk 27/35, Loss: 1.6019474267959595\n",
            "Epoch 2, Chunk 28/35, Loss: 1.5888268947601318\n",
            "Epoch 2, Chunk 29/35, Loss: 1.6332752704620361\n",
            "Epoch 2, Chunk 30/35, Loss: 1.4892892837524414\n",
            "Epoch 2, Chunk 31/35, Loss: 2.117511749267578\n",
            "Epoch 2, Chunk 32/35, Loss: 2.157036542892456\n",
            "Epoch 2, Chunk 33/35, Loss: 1.9442068338394165\n",
            "Epoch 2, Chunk 34/35, Loss: 1.888913869857788\n",
            "Epoch 2, Chunk 35/35, Loss: 2.060864210128784\n",
            "Epoch 3, Chunk 1/35, Loss: 1.5974706411361694\n",
            "Epoch 3, Chunk 2/35, Loss: 1.5443637371063232\n",
            "Epoch 3, Chunk 3/35, Loss: 1.5620416402816772\n",
            "Epoch 3, Chunk 4/35, Loss: 1.502321720123291\n",
            "Epoch 3, Chunk 5/35, Loss: 1.5596325397491455\n",
            "Epoch 3, Chunk 6/35, Loss: 1.5156822204589844\n",
            "Epoch 3, Chunk 7/35, Loss: 1.5839123725891113\n",
            "Epoch 3, Chunk 8/35, Loss: 1.6145858764648438\n",
            "Epoch 3, Chunk 9/35, Loss: 1.5595349073410034\n",
            "Epoch 3, Chunk 10/35, Loss: 1.565077304840088\n",
            "Epoch 3, Chunk 11/35, Loss: 1.5982749462127686\n",
            "Epoch 3, Chunk 12/35, Loss: 1.518512487411499\n",
            "Epoch 3, Chunk 13/35, Loss: 1.5172955989837646\n",
            "Epoch 3, Chunk 14/35, Loss: 1.5934181213378906\n",
            "Epoch 3, Chunk 15/35, Loss: 1.4608184099197388\n",
            "Epoch 3, Chunk 16/35, Loss: 1.5304278135299683\n",
            "Epoch 3, Chunk 17/35, Loss: 1.5525721311569214\n",
            "Epoch 3, Chunk 18/35, Loss: 1.5887813568115234\n",
            "Epoch 3, Chunk 19/35, Loss: 1.4588617086410522\n",
            "Epoch 3, Chunk 20/35, Loss: 1.534292459487915\n",
            "Epoch 3, Chunk 21/35, Loss: 1.6384057998657227\n",
            "Epoch 3, Chunk 22/35, Loss: 1.5444477796554565\n",
            "Epoch 3, Chunk 23/35, Loss: 1.6175298690795898\n",
            "Epoch 3, Chunk 24/35, Loss: 1.4688478708267212\n",
            "Epoch 3, Chunk 25/35, Loss: 1.5821059942245483\n",
            "Epoch 3, Chunk 26/35, Loss: 1.646292805671692\n",
            "Epoch 3, Chunk 27/35, Loss: 1.5357379913330078\n",
            "Epoch 3, Chunk 28/35, Loss: 1.5401837825775146\n",
            "Epoch 3, Chunk 29/35, Loss: 1.5913137197494507\n",
            "Epoch 3, Chunk 30/35, Loss: 1.4741253852844238\n",
            "Epoch 3, Chunk 31/35, Loss: 1.9314230680465698\n",
            "Epoch 3, Chunk 32/35, Loss: 1.9840104579925537\n",
            "Epoch 3, Chunk 33/35, Loss: 1.8177556991577148\n",
            "Epoch 3, Chunk 34/35, Loss: 1.762201189994812\n",
            "Epoch 3, Chunk 35/35, Loss: 1.873227834701538\n"
          ]
        }
      ]
    },
    {
      "cell_type": "code",
      "source": [
        "# Define and encode the test chunk (example: the first chunk from price_chunks)\n",
        "test_chunk = price_chunks[0]  # Replace with the desired chunk\n",
        "encoded_test_chunk = tokenizer.encode(test_chunk, return_tensors=\"pt\").to(device)\n"
      ],
      "metadata": {
        "id": "7UWa2--ZtcCX"
      },
      "execution_count": null,
      "outputs": []
    },
    {
      "cell_type": "code",
      "source": [
        "# Libraries\n",
        "import torch\n",
        "from sklearn.preprocessing import MinMaxScaler\n",
        "from transformers import GPT2LMHeadModel, GPT2Tokenizer\n",
        "from tensorflow.keras.models import Sequential\n",
        "from tensorflow.keras.layers import LSTM, Dense\n",
        "\n",
        "# 1. Fetch and preprocess historical stock data\n",
        "dates = pd.date_range(start='2014-01-01', periods=500, freq='D')\n",
        "prices = np.random.randn(500).cumsum() + 100  # Simulated stock prices\n",
        "\n",
        "# Normalize data for LSTM\n",
        "scaler = MinMaxScaler(feature_range=(0, 1))\n",
        "prices_scaled = scaler.fit_transform(prices.reshape(-1, 1))\n",
        "\n",
        "# Prepare LSTM data (e.g., look-back window of 50)\n",
        "look_back = 50\n",
        "X, y = [], []\n",
        "for i in range(look_back, len(prices_scaled)):\n",
        "    X.append(prices_scaled[i-look_back:i, 0])\n",
        "    y.append(prices_scaled[i, 0])\n",
        "\n",
        "X, y = np.array(X), np.array(y)\n",
        "X = np.reshape(X, (X.shape[0], X.shape[1], 1))  # Reshape for LSTM input\n",
        "\n",
        "# 2. Train an LSTM model\n",
        "lstm_model = Sequential()\n",
        "lstm_model.add(LSTM(units=50, return_sequences=True, input_shape=(X.shape[1], 1)))\n",
        "lstm_model.add(LSTM(units=50))\n",
        "lstm_model.add(Dense(units=1))  # Predict one value (next price)\n",
        "lstm_model.compile(optimizer='adam', loss='mean_squared_error')\n",
        "\n",
        "# Train the model\n",
        "lstm_model.fit(X, y, epochs=5, batch_size=32)\n",
        "\n",
        "# 3. Predict future prices\n",
        "future_steps = 50  # Predict 50 days ahead\n",
        "future_prices = []\n",
        "input_seq = prices_scaled[-look_back:].reshape(1, look_back, 1)\n",
        "\n",
        "for _ in range(future_steps):\n",
        "    # Predict stock price using the LSTM model\n",
        "    predicted_price = lstm_model.predict(input_seq)  # Shape: (1, 1)\n",
        "    future_prices.append(predicted_price[0, 0])     # Append scalar value\n",
        "    # Reshape predicted_price to match the last dimension of input_seq\n",
        "    input_seq = np.append(input_seq[:, 1:, :], [[[predicted_price[0, 0]]]], axis=1)\n",
        "\n",
        "# 4. Encode stock trends for GPT-2\n",
        "# Generate trend description\n",
        "trend_text = \"The stock prices started at {:.2f} and ended at {:.2f}. Major trends observed include an upward trajectory with significant volatility.\".format(\n",
        "    prices[0], prices[-1]\n",
        ")\n",
        "\n",
        "\n"
      ],
      "metadata": {
        "colab": {
          "base_uri": "https://localhost:8080/"
        },
        "id": "j6kJqvSlT68e",
        "outputId": "1791ce6a-5b50-4557-b300-477ed658d2ca"
      },
      "execution_count": null,
      "outputs": [
        {
          "output_type": "stream",
          "name": "stderr",
          "text": [
            "/usr/local/lib/python3.10/dist-packages/keras/src/layers/rnn/rnn.py:204: UserWarning: Do not pass an `input_shape`/`input_dim` argument to a layer. When using Sequential models, prefer using an `Input(shape)` object as the first layer in the model instead.\n",
            "  super().__init__(**kwargs)\n"
          ]
        },
        {
          "output_type": "stream",
          "name": "stdout",
          "text": [
            "Epoch 1/5\n",
            "\u001b[1m15/15\u001b[0m \u001b[32m━━━━━━━━━━━━━━━━━━━━\u001b[0m\u001b[37m\u001b[0m \u001b[1m12s\u001b[0m 100ms/step - loss: 0.0570\n",
            "Epoch 2/5\n",
            "\u001b[1m15/15\u001b[0m \u001b[32m━━━━━━━━━━━━━━━━━━━━\u001b[0m\u001b[37m\u001b[0m \u001b[1m1s\u001b[0m 45ms/step - loss: 0.0130\n",
            "Epoch 3/5\n",
            "\u001b[1m15/15\u001b[0m \u001b[32m━━━━━━━━━━━━━━━━━━━━\u001b[0m\u001b[37m\u001b[0m \u001b[1m1s\u001b[0m 57ms/step - loss: 0.0067\n",
            "Epoch 4/5\n",
            "\u001b[1m15/15\u001b[0m \u001b[32m━━━━━━━━━━━━━━━━━━━━\u001b[0m\u001b[37m\u001b[0m \u001b[1m1s\u001b[0m 75ms/step - loss: 0.0057\n",
            "Epoch 5/5\n",
            "\u001b[1m15/15\u001b[0m \u001b[32m━━━━━━━━━━━━━━━━━━━━\u001b[0m\u001b[37m\u001b[0m \u001b[1m1s\u001b[0m 74ms/step - loss: 0.0061\n",
            "\u001b[1m1/1\u001b[0m \u001b[32m━━━━━━━━━━━━━━━━━━━━\u001b[0m\u001b[37m\u001b[0m \u001b[1m0s\u001b[0m 480ms/step\n",
            "\u001b[1m1/1\u001b[0m \u001b[32m━━━━━━━━━━━━━━━━━━━━\u001b[0m\u001b[37m\u001b[0m \u001b[1m0s\u001b[0m 34ms/step\n",
            "\u001b[1m1/1\u001b[0m \u001b[32m━━━━━━━━━━━━━━━━━━━━\u001b[0m\u001b[37m\u001b[0m \u001b[1m0s\u001b[0m 31ms/step\n",
            "\u001b[1m1/1\u001b[0m \u001b[32m━━━━━━━━━━━━━━━━━━━━\u001b[0m\u001b[37m\u001b[0m \u001b[1m0s\u001b[0m 26ms/step\n",
            "\u001b[1m1/1\u001b[0m \u001b[32m━━━━━━━━━━━━━━━━━━━━\u001b[0m\u001b[37m\u001b[0m \u001b[1m0s\u001b[0m 26ms/step\n",
            "\u001b[1m1/1\u001b[0m \u001b[32m━━━━━━━━━━━━━━━━━━━━\u001b[0m\u001b[37m\u001b[0m \u001b[1m0s\u001b[0m 28ms/step\n",
            "\u001b[1m1/1\u001b[0m \u001b[32m━━━━━━━━━━━━━━━━━━━━\u001b[0m\u001b[37m\u001b[0m \u001b[1m0s\u001b[0m 30ms/step\n",
            "\u001b[1m1/1\u001b[0m \u001b[32m━━━━━━━━━━━━━━━━━━━━\u001b[0m\u001b[37m\u001b[0m \u001b[1m0s\u001b[0m 34ms/step\n",
            "\u001b[1m1/1\u001b[0m \u001b[32m━━━━━━━━━━━━━━━━━━━━\u001b[0m\u001b[37m\u001b[0m \u001b[1m0s\u001b[0m 26ms/step\n",
            "\u001b[1m1/1\u001b[0m \u001b[32m━━━━━━━━━━━━━━━━━━━━\u001b[0m\u001b[37m\u001b[0m \u001b[1m0s\u001b[0m 37ms/step\n",
            "\u001b[1m1/1\u001b[0m \u001b[32m━━━━━━━━━━━━━━━━━━━━\u001b[0m\u001b[37m\u001b[0m \u001b[1m0s\u001b[0m 28ms/step\n",
            "\u001b[1m1/1\u001b[0m \u001b[32m━━━━━━━━━━━━━━━━━━━━\u001b[0m\u001b[37m\u001b[0m \u001b[1m0s\u001b[0m 28ms/step\n",
            "\u001b[1m1/1\u001b[0m \u001b[32m━━━━━━━━━━━━━━━━━━━━\u001b[0m\u001b[37m\u001b[0m \u001b[1m0s\u001b[0m 28ms/step\n",
            "\u001b[1m1/1\u001b[0m \u001b[32m━━━━━━━━━━━━━━━━━━━━\u001b[0m\u001b[37m\u001b[0m \u001b[1m0s\u001b[0m 29ms/step\n",
            "\u001b[1m1/1\u001b[0m \u001b[32m━━━━━━━━━━━━━━━━━━━━\u001b[0m\u001b[37m\u001b[0m \u001b[1m0s\u001b[0m 24ms/step\n",
            "\u001b[1m1/1\u001b[0m \u001b[32m━━━━━━━━━━━━━━━━━━━━\u001b[0m\u001b[37m\u001b[0m \u001b[1m0s\u001b[0m 24ms/step\n",
            "\u001b[1m1/1\u001b[0m \u001b[32m━━━━━━━━━━━━━━━━━━━━\u001b[0m\u001b[37m\u001b[0m \u001b[1m0s\u001b[0m 23ms/step\n",
            "\u001b[1m1/1\u001b[0m \u001b[32m━━━━━━━━━━━━━━━━━━━━\u001b[0m\u001b[37m\u001b[0m \u001b[1m0s\u001b[0m 24ms/step\n",
            "\u001b[1m1/1\u001b[0m \u001b[32m━━━━━━━━━━━━━━━━━━━━\u001b[0m\u001b[37m\u001b[0m \u001b[1m0s\u001b[0m 26ms/step\n",
            "\u001b[1m1/1\u001b[0m \u001b[32m━━━━━━━━━━━━━━━━━━━━\u001b[0m\u001b[37m\u001b[0m \u001b[1m0s\u001b[0m 30ms/step\n",
            "\u001b[1m1/1\u001b[0m \u001b[32m━━━━━━━━━━━━━━━━━━━━\u001b[0m\u001b[37m\u001b[0m \u001b[1m0s\u001b[0m 26ms/step\n",
            "\u001b[1m1/1\u001b[0m \u001b[32m━━━━━━━━━━━━━━━━━━━━\u001b[0m\u001b[37m\u001b[0m \u001b[1m0s\u001b[0m 24ms/step\n",
            "\u001b[1m1/1\u001b[0m \u001b[32m━━━━━━━━━━━━━━━━━━━━\u001b[0m\u001b[37m\u001b[0m \u001b[1m0s\u001b[0m 24ms/step\n",
            "\u001b[1m1/1\u001b[0m \u001b[32m━━━━━━━━━━━━━━━━━━━━\u001b[0m\u001b[37m\u001b[0m \u001b[1m0s\u001b[0m 25ms/step\n",
            "\u001b[1m1/1\u001b[0m \u001b[32m━━━━━━━━━━━━━━━━━━━━\u001b[0m\u001b[37m\u001b[0m \u001b[1m0s\u001b[0m 26ms/step\n",
            "\u001b[1m1/1\u001b[0m \u001b[32m━━━━━━━━━━━━━━━━━━━━\u001b[0m\u001b[37m\u001b[0m \u001b[1m0s\u001b[0m 26ms/step\n",
            "\u001b[1m1/1\u001b[0m \u001b[32m━━━━━━━━━━━━━━━━━━━━\u001b[0m\u001b[37m\u001b[0m \u001b[1m0s\u001b[0m 26ms/step\n",
            "\u001b[1m1/1\u001b[0m \u001b[32m━━━━━━━━━━━━━━━━━━━━\u001b[0m\u001b[37m\u001b[0m \u001b[1m0s\u001b[0m 26ms/step\n",
            "\u001b[1m1/1\u001b[0m \u001b[32m━━━━━━━━━━━━━━━━━━━━\u001b[0m\u001b[37m\u001b[0m \u001b[1m0s\u001b[0m 26ms/step\n",
            "\u001b[1m1/1\u001b[0m \u001b[32m━━━━━━━━━━━━━━━━━━━━\u001b[0m\u001b[37m\u001b[0m \u001b[1m0s\u001b[0m 27ms/step\n",
            "\u001b[1m1/1\u001b[0m \u001b[32m━━━━━━━━━━━━━━━━━━━━\u001b[0m\u001b[37m\u001b[0m \u001b[1m0s\u001b[0m 28ms/step\n",
            "\u001b[1m1/1\u001b[0m \u001b[32m━━━━━━━━━━━━━━━━━━━━\u001b[0m\u001b[37m\u001b[0m \u001b[1m0s\u001b[0m 36ms/step\n",
            "\u001b[1m1/1\u001b[0m \u001b[32m━━━━━━━━━━━━━━━━━━━━\u001b[0m\u001b[37m\u001b[0m \u001b[1m0s\u001b[0m 26ms/step\n",
            "\u001b[1m1/1\u001b[0m \u001b[32m━━━━━━━━━━━━━━━━━━━━\u001b[0m\u001b[37m\u001b[0m \u001b[1m0s\u001b[0m 25ms/step\n",
            "\u001b[1m1/1\u001b[0m \u001b[32m━━━━━━━━━━━━━━━━━━━━\u001b[0m\u001b[37m\u001b[0m \u001b[1m0s\u001b[0m 28ms/step\n",
            "\u001b[1m1/1\u001b[0m \u001b[32m━━━━━━━━━━━━━━━━━━━━\u001b[0m\u001b[37m\u001b[0m \u001b[1m0s\u001b[0m 28ms/step\n",
            "\u001b[1m1/1\u001b[0m \u001b[32m━━━━━━━━━━━━━━━━━━━━\u001b[0m\u001b[37m\u001b[0m \u001b[1m0s\u001b[0m 26ms/step\n",
            "\u001b[1m1/1\u001b[0m \u001b[32m━━━━━━━━━━━━━━━━━━━━\u001b[0m\u001b[37m\u001b[0m \u001b[1m0s\u001b[0m 25ms/step\n",
            "\u001b[1m1/1\u001b[0m \u001b[32m━━━━━━━━━━━━━━━━━━━━\u001b[0m\u001b[37m\u001b[0m \u001b[1m0s\u001b[0m 26ms/step\n",
            "\u001b[1m1/1\u001b[0m \u001b[32m━━━━━━━━━━━━━━━━━━━━\u001b[0m\u001b[37m\u001b[0m \u001b[1m0s\u001b[0m 26ms/step\n",
            "\u001b[1m1/1\u001b[0m \u001b[32m━━━━━━━━━━━━━━━━━━━━\u001b[0m\u001b[37m\u001b[0m \u001b[1m0s\u001b[0m 26ms/step\n",
            "\u001b[1m1/1\u001b[0m \u001b[32m━━━━━━━━━━━━━━━━━━━━\u001b[0m\u001b[37m\u001b[0m \u001b[1m0s\u001b[0m 29ms/step\n",
            "\u001b[1m1/1\u001b[0m \u001b[32m━━━━━━━━━━━━━━━━━━━━\u001b[0m\u001b[37m\u001b[0m \u001b[1m0s\u001b[0m 36ms/step\n",
            "\u001b[1m1/1\u001b[0m \u001b[32m━━━━━━━━━━━━━━━━━━━━\u001b[0m\u001b[37m\u001b[0m \u001b[1m0s\u001b[0m 26ms/step\n",
            "\u001b[1m1/1\u001b[0m \u001b[32m━━━━━━━━━━━━━━━━━━━━\u001b[0m\u001b[37m\u001b[0m \u001b[1m0s\u001b[0m 27ms/step\n",
            "\u001b[1m1/1\u001b[0m \u001b[32m━━━━━━━━━━━━━━━━━━━━\u001b[0m\u001b[37m\u001b[0m \u001b[1m0s\u001b[0m 26ms/step\n",
            "\u001b[1m1/1\u001b[0m \u001b[32m━━━━━━━━━━━━━━━━━━━━\u001b[0m\u001b[37m\u001b[0m \u001b[1m0s\u001b[0m 27ms/step\n",
            "\u001b[1m1/1\u001b[0m \u001b[32m━━━━━━━━━━━━━━━━━━━━\u001b[0m\u001b[37m\u001b[0m \u001b[1m0s\u001b[0m 30ms/step\n",
            "\u001b[1m1/1\u001b[0m \u001b[32m━━━━━━━━━━━━━━━━━━━━\u001b[0m\u001b[37m\u001b[0m \u001b[1m0s\u001b[0m 26ms/step\n",
            "\u001b[1m1/1\u001b[0m \u001b[32m━━━━━━━━━━━━━━━━━━━━\u001b[0m\u001b[37m\u001b[0m \u001b[1m0s\u001b[0m 26ms/step\n"
          ]
        }
      ]
    },
    {
      "cell_type": "code",
      "source": [
        "import numpy as np\n",
        "import pandas as pd\n",
        "import matplotlib.pyplot as plt\n",
        "from transformers import GPT2Tokenizer, GPT2LMHeadModel\n",
        "import torch\n",
        "\n",
        "# Ensure reproducibility\n",
        "np.random.seed(42)\n",
        "torch.manual_seed(42)\n",
        "\n",
        "# Simulate Historical Stock Data\n",
        "dates = pd.date_range(start='2014-01-01', periods=100, freq='D')\n",
        "prices = np.random.randn(100).cumsum() + 100  # Simulated stock prices\n",
        "\n",
        "# Generate future prices using random simulation (placeholder for actual LSTM predictions)\n",
        "future_steps = 50\n",
        "future_dates = pd.date_range(start=dates[-1], periods=future_steps + 1, freq='D')[1:]  # 50 days ahead\n",
        "future_prices_rescaled = np.random.randn(future_steps).cumsum() + prices[-1]\n",
        "\n",
        "# Text Generation with GPT-2\n",
        "# Load GPT-2 model and tokenizer\n",
        "tokenizer = GPT2Tokenizer.from_pretrained(\"gpt2\")\n",
        "gpt2_model = GPT2LMHeadModel.from_pretrained(\"gpt2\")\n",
        "\n",
        "# Prepare input for GPT-2\n",
        "input_text = \"The stock market analysis indicates\"\n",
        "encoded_input = tokenizer(input_text, return_tensors=\"pt\").input_ids\n",
        "\n",
        "# Ensure GPT-2 is in evaluation mode\n",
        "gpt2_model.eval()\n",
        "\n",
        "# Generate commentary\n",
        "with torch.no_grad():\n",
        "    generated = gpt2_model.generate(\n",
        "        encoded_input,\n",
        "        max_length=100,\n",
        "        temperature=0.7,  # Adjust randomness\n",
        "        pad_token_id=tokenizer.eos_token_id\n",
        "    )\n",
        "\n",
        "# Decode the generated text\n",
        "decoded_output = tokenizer.decode(generated[0], skip_special_tokens=True)\n",
        "print(f\"GPT-2 Generated Commentary:\\n{decoded_output}\")\n",
        "\n",
        "# Visualization\n",
        "plt.figure(figsize=(12, 6))\n",
        "plt.plot(dates, prices, label=\"Historical Prices\", color='blue')\n",
        "plt.plot(future_dates, future_prices_rescaled, label=\"Predicted Prices\", color='green', marker='o')\n",
        "plt.xlabel(\"Date\")\n",
        "plt.ylabel(\"Stock Price\")\n",
        "plt.title(\"Stock Price Prediction (LSTM + GPT-2 Commentary)\")\n",
        "plt.legend()\n",
        "plt.xticks(rotation=45)\n",
        "plt.tight_layout()\n",
        "plt.show()\n"
      ],
      "metadata": {
        "colab": {
          "base_uri": "https://localhost:8080/",
          "height": 749
        },
        "id": "czVj_5YxW1cM",
        "outputId": "67292007-3934-4c65-e6db-474ab167e96e"
      },
      "execution_count": null,
      "outputs": [
        {
          "output_type": "stream",
          "name": "stderr",
          "text": [
            "/usr/local/lib/python3.10/dist-packages/transformers/generation/configuration_utils.py:590: UserWarning: `do_sample` is set to `False`. However, `temperature` is set to `0.7` -- this flag is only used in sample-based generation modes. You should set `do_sample=True` or unset `temperature`.\n",
            "  warnings.warn(\n",
            "The attention mask is not set and cannot be inferred from input because pad token is same as eos token. As a consequence, you may observe unexpected behavior. Please pass your input's `attention_mask` to obtain reliable results.\n"
          ]
        },
        {
          "output_type": "stream",
          "name": "stdout",
          "text": [
            "GPT-2 Generated Commentary:\n",
            "The stock market analysis indicates that the stock market is likely to be a very volatile market. The stock market is likely to be volatile because of the volatility of the stock market.\n",
            "\n",
            "The stock market is likely to be volatile because of the volatility of the stock market. The stock market is likely to be volatile because of the volatility of the stock market. The stock market is likely to be volatile because of the volatility of the stock market. The stock market is likely to be volatile because of the volatility\n"
          ]
        },
        {
          "output_type": "display_data",
          "data": {
            "text/plain": [
              "<Figure size 1200x600 with 1 Axes>"
            ],
            "image/png": "[encoded data removed]"
          },
          "metadata": {}
        }
      ]
    },
    {
      "cell_type": "code",
      "source": [
        "from sklearn.metrics import mean_absolute_error, mean_squared_error\n",
        "import numpy as np\n",
        "\n",
        "# Assuming the following:\n",
        "# `true_prices`: Ground truth stock prices (e.g., last 50 days or known test data)\n",
        "# `predicted_prices`: Stock prices predicted by your LSTM model\n",
        "\n",
        "# Simulated example: Replace these with your actual test and predicted values\n",
        "true_prices = np.random.randn(50).cumsum() + 100  # Simulated true prices\n",
        "predicted_prices = true_prices + np.random.normal(0, 2, size=true_prices.shape)  # Add some noise for predictions\n",
        "\n",
        "# Calculate MAE, MSE, and RMSE\n",
        "mae = mean_absolute_error(true_prices, predicted_prices)\n",
        "mse = mean_squared_error(true_prices, predicted_prices)\n",
        "rmse = np.sqrt(mse)\n",
        "\n",
        "# Print the results\n",
        "print(f\"Mean Absolute Error (MAE): {mae:.2f}\")\n",
        "print(f\"Mean Squared Error (MSE): {mse:.2f}\")\n",
        "print(f\"Root Mean Squared Error (RMSE): {rmse:.2f}\")\n"
      ],
      "metadata": {
        "colab": {
          "base_uri": "https://localhost:8080/"
        },
        "id": "-B_RGcZmXefw",
        "outputId": "2d5fcd3e-3579-41d5-e236-631bd586a7b5"
      },
      "execution_count": null,
      "outputs": [
        {
          "output_type": "stream",
          "name": "stdout",
          "text": [
            "Mean Absolute Error (MAE): 1.26\n",
            "Mean Squared Error (MSE): 2.35\n",
            "Root Mean Squared Error (RMSE): 1.53\n"
          ]
        }
      ]
    },
    {
      "cell_type": "code",
      "source": [
        "print(data.head())"
      ],
      "metadata": {
        "colab": {
          "base_uri": "https://localhost:8080/"
        },
        "id": "i4b2UEr7t_dx",
        "outputId": "467c0038-9064-4d86-dc7e-d5e606f0ec3f"
      },
      "execution_count": null,
      "outputs": [
        {
          "output_type": "stream",
          "name": "stdout",
          "text": [
            "Price                        Adj Close        Close         High          Low  \\\n",
            "Ticker                           ^NSEI        ^NSEI        ^NSEI        ^NSEI   \n",
            "Date                                                                            \n",
            "2013-01-02 00:00:00+00:00  5993.250000  5993.250000  6006.049805  5982.000000   \n",
            "2013-01-03 00:00:00+00:00  6009.500000  6009.500000  6017.000000  5986.549805   \n",
            "2013-01-04 00:00:00+00:00  6016.149902  6016.149902  6020.750000  5981.549805   \n",
            "2013-01-07 00:00:00+00:00  5988.399902  5988.399902  6042.149902  5977.149902   \n",
            "2013-01-08 00:00:00+00:00  6001.700195  6001.700195  6007.049805  5964.399902   \n",
            "\n",
            "Price                             Open Volume  \n",
            "Ticker                           ^NSEI  ^NSEI  \n",
            "Date                                           \n",
            "2013-01-02 00:00:00+00:00  5982.600098      0  \n",
            "2013-01-03 00:00:00+00:00  6015.799805      0  \n",
            "2013-01-04 00:00:00+00:00  6011.950195      0  \n",
            "2013-01-07 00:00:00+00:00  6042.149902      0  \n",
            "2013-01-08 00:00:00+00:00  5983.450195      0  \n"
          ]
        }
      ]
    },
    {
      "cell_type": "code",
      "source": [
        "print(data.columns)"
      ],
      "metadata": {
        "colab": {
          "base_uri": "https://localhost:8080/"
        },
        "id": "bgcfzhO_t_qF",
        "outputId": "b255ad11-b11f-4173-ff9a-3d8e52207b4b"
      },
      "execution_count": null,
      "outputs": [
        {
          "output_type": "stream",
          "name": "stdout",
          "text": [
            "MultiIndex([('Adj Close', '^NSEI'),\n",
            "            (    'Close', '^NSEI'),\n",
            "            (     'High', '^NSEI'),\n",
            "            (      'Low', '^NSEI'),\n",
            "            (     'Open', '^NSEI'),\n",
            "            (   'Volume', '^NSEI')],\n",
            "           names=['Price', 'Ticker'])\n"
          ]
        }
      ]
    },
    {
      "cell_type": "code",
      "source": [
        "import pandas as pd\n",
        "\n",
        "# Convert the list to a pandas Series\n",
        "prices_series = pd.Series(prices)\n",
        "\n",
        "# Use fillna to fill missing values\n",
        "prices_filled = prices_series.fillna(method='ffill').to_list()\n",
        "\n",
        "# Now prices_filled contains the filled values as a list\n",
        "\n"
      ],
      "metadata": {
        "colab": {
          "base_uri": "https://localhost:8080/"
        },
        "id": "PGrfOdpLvLJG",
        "outputId": "e1823085-1994-414e-b14a-7874bd9401e5"
      },
      "execution_count": null,
      "outputs": [
        {
          "output_type": "stream",
          "name": "stderr",
          "text": [
            "<ipython-input-43-ff16095a6783>:7: FutureWarning: Series.fillna with 'method' is deprecated and will raise in a future version. Use obj.ffill() or obj.bfill() instead.\n",
            "  prices_filled = prices_series.fillna(method='ffill').to_list()\n"
          ]
        }
      ]
    },
    {
      "cell_type": "code",
      "source": [
        "# Extract Close prices as a NumPy array\n",
        "close_prices = data['Close'].values\n",
        "\n",
        "# Print the first few Close prices\n",
        "print(close_prices[:10])\n"
      ],
      "metadata": {
        "colab": {
          "base_uri": "https://localhost:8080/"
        },
        "id": "uIDLWFJ7lfOE",
        "outputId": "6092f314-2f4f-46df-d74c-656eceab6f5f"
      },
      "execution_count": null,
      "outputs": [
        {
          "output_type": "stream",
          "name": "stdout",
          "text": [
            "[[5993.25      ]\n",
            " [6009.5       ]\n",
            " [6016.14990234]\n",
            " [5988.39990234]\n",
            " [6001.70019531]\n",
            " [5971.5       ]\n",
            " [5968.64990234]\n",
            " [5951.29980469]\n",
            " [6024.04980469]\n",
            " [6056.60009766]]\n"
          ]
        }
      ]
    },
    {
      "cell_type": "code",
      "source": [
        "## Assuming predictions are obtained from the model after evaluation\n",
        "# For example, predictions could come from your LSTM model like this:\n",
        "\n",
        "# Test data (replace with actual test data)\n",
        "test_data = np.random.randn(30).cumsum() + 100  # Simulated test data\n",
        "\n",
        "# Make predictions (replace with actual model prediction logic)\n",
        "# For example, if you're using LSTM, you'd pass the test data to your model\n",
        "# predictions = model.predict(test_data) # Model's prediction\n",
        "# Here, we use simulated predictions for demonstration\n",
        "predictions = np.random.randn(30).cumsum() + 100  # Simulated predictions\n",
        "\n",
        "# Rescale predictions (ensure predictions are in the right shape)\n",
        "predictions_rescaled = scaler.inverse_transform(predictions.reshape(-1, 1))  # Rescaling predictions\n",
        "\n",
        "# Assuming you have actual test data (y_test) that you want to compare with predictions\n",
        "y_test_rescaled = scaler.inverse_transform(test_data.reshape(-1, 1))  # Rescale actual test data\n",
        "\n"
      ],
      "metadata": {
        "id": "91jK3p4et1uC"
      },
      "execution_count": null,
      "outputs": []
    },
    {
      "cell_type": "code",
      "source": [
        "# Plot Actual vs Predicted\n",
        "\n",
        "plt.show()\n",
        "plt.figure(figsize=(12, 6))\n",
        "plt.plot(y_test_rescaled, label=\"Actual Prices\", color=\"blue\")\n",
        "plt.plot(predictions_rescaled, label=\"Predicted Prices\", color=\"orange\")\n",
        "plt.xlabel(\"Time\")\n",
        "plt.ylabel(\"Stock Price\")\n",
        "plt.title(\"Actual vs Predicted Prices\")\n",
        "plt.legend()\n"
      ],
      "metadata": {
        "colab": {
          "base_uri": "https://localhost:8080/",
          "height": 581
        },
        "id": "K9aqVmmso1CK",
        "outputId": "91bd499e-7343-4f93-cf36-96147551ab93"
      },
      "execution_count": null,
      "outputs": [
        {
          "output_type": "execute_result",
          "data": {
            "text/plain": [
              "<matplotlib.legend.Legend at 0x7b73d19a52a0>"
            ]
          },
          "metadata": {},
          "execution_count": 33
        },
        {
          "output_type": "display_data",
          "data": {
            "text/plain": [
              "<Figure size 1200x600 with 1 Axes>"
            ],
            "image/png": "[encoded data removed]"
          },
          "metadata": {}
        }
      ]
    },
    {
      "cell_type": "code",
      "source": [
        "        model.zero_grad()\n",
        "        outputs = model(encoded_chunk, labels=encoded_chunk)\n",
        "        loss = outputs.loss  # Categorical Cross-Entropy\n",
        "\n",
        "        # Print the loss for the current chunk\n",
        "        print(f\"Epoch {epoch + 1}, Chunk {i + 1}/{len(price_chunks)}, Loss: {loss.item()}\")\n",
        "\n"
      ],
      "metadata": {
        "colab": {
          "base_uri": "https://localhost:8080/"
        },
        "id": "-cE77974vB0C",
        "outputId": "847f4e6d-e227-4e02-ed6b-3f868df015e4"
      },
      "execution_count": null,
      "outputs": [
        {
          "output_type": "stream",
          "name": "stdout",
          "text": [
            "Epoch 3, Chunk 500/35, Loss: 2.6594226360321045\n"
          ]
        }
      ]
    },
    {
      "cell_type": "code",
      "source": [
        "import numpy as np\n",
        "\n",
        "# Assuming `y_test_rescaled` contains actual prices and `predictions_rescaled` contains predicted prices\n",
        "# Flatten the arrays to ensure they're 1D\n",
        "actual_prices = y_test_rescaled.flatten()\n",
        "predicted_prices = predictions_rescaled.flatten()\n",
        "\n",
        "# Calculate changes in actual and predicted prices\n",
        "actual_changes = np.diff(actual_prices)\n",
        "predicted_changes = np.diff(predicted_prices)\n",
        "\n",
        "# Determine correct predictions (same direction of change)\n",
        "correct_predictions = np.sum(np.sign(actual_changes) == np.sign(predicted_changes))\n",
        "\n",
        "# Calculate Directional Accuracy (DA)\n",
        "total_predictions = len(actual_changes)\n",
        "directional_accuracy = (correct_predictions / total_predictions) * 100\n",
        "\n",
        "print(f\"Directional Accuracy (DA): {directional_accuracy:.2f}%\")\n"
      ],
      "metadata": {
        "colab": {
          "base_uri": "https://localhost:8080/"
        },
        "id": "GnkHXa6yxhXo",
        "outputId": "f8f64580-9682-47e5-bb4e-a40e5b7b9bfd"
      },
      "execution_count": null,
      "outputs": [
        {
          "output_type": "stream",
          "name": "stdout",
          "text": [
            "Directional Accuracy (DA): 44.83%\n"
          ]
        }
      ]
    },
    {
      "cell_type": "code",
      "source": [
        "from sklearn.metrics import precision_score\n",
        "\n",
        "# Example true values (y_test) - replace with your actual values\n",
        "y_test = np.random.choice([-1, 0, 1], size=100)  # Simulated test data\n",
        "\n",
        "# Example predicted values (predicted_directions) - replace with your model predictions\n",
        "predicted_directions = np.random.choice([-1, 0, 1], size=100)  # Simulated predictions\n",
        "\n",
        "# Calculate precision with 'micro', 'macro', or 'weighted' for multiclass classification\n",
        "precision = precision_score(y_test, predicted_directions, average='macro')  # Choose 'micro', 'macro', or 'weighted'\n",
        "print(f\"Precision: {precision * 100:.2f}%\")\n",
        "\n"
      ],
      "metadata": {
        "colab": {
          "base_uri": "https://localhost:8080/"
        },
        "id": "B0SSnCFxyEwK",
        "outputId": "c847d3e6-8e48-43c6-d25b-9f7a96df8599"
      },
      "execution_count": null,
      "outputs": [
        {
          "output_type": "stream",
          "name": "stdout",
          "text": [
            "Precision: 35.99%\n"
          ]
        }
      ]
    },
    {
      "cell_type": "code",
      "source": [
        "y_test = np.array(y_test)  # Convert y_test to a numpy array if it's not already\n",
        "y_test = y_test[y_test >= 0]  # Remove negative values\n",
        "\n",
        "print(\"Class distribution in y_test:\", np.bincount(y_test))\n"
      ],
      "metadata": {
        "colab": {
          "base_uri": "https://localhost:8080/"
        },
        "id": "dq_FAq_EzFjp",
        "outputId": "fb132106-519b-4f99-bf6e-f3c226d6aebf"
      },
      "execution_count": null,
      "outputs": [
        {
          "output_type": "stream",
          "name": "stdout",
          "text": [
            "Class distribution in y_test: [38 33]\n"
          ]
        }
      ]
    },
    {
      "cell_type": "code",
      "source": [
        "from transformers import GPT2Tokenizer, GPT2ForSequenceClassification\n",
        "import torch\n",
        "\n",
        "# Load a pre-trained GPT-2 model with a classification head\n",
        "model = GPT2ForSequenceClassification.from_pretrained('gpt2', num_labels=2)  # num_labels=2 for binary classification\n",
        "tokenizer = GPT2Tokenizer.from_pretrained('gpt2')\n",
        "\n",
        "# Tokenize your input text\n",
        "inputs = tokenizer(\"Your input text here\", return_tensors=\"pt\")\n",
        "\n",
        "# Get model outputs\n",
        "outputs = model(**inputs)\n",
        "\n",
        "# Get logits (unnormalized predictions)\n",
        "logits = outputs.logits\n",
        "\n",
        "# Apply softmax to get probabilities\n",
        "probabilities = torch.nn.functional.softmax(logits, dim=-1)\n",
        "\n",
        "# Get predicted class\n",
        "predicted_class = torch.argmax(probabilities, dim=-1)\n",
        "\n",
        "print(f\"Predicted class: {predicted_class.item()}, Probability: {probabilities.max().item()}\")\n"
      ],
      "metadata": {
        "colab": {
          "base_uri": "https://localhost:8080/"
        },
        "id": "tK6w_M2bzFm_",
        "outputId": "425b6738-abc7-4041-8fd3-6150f2d71c4a"
      },
      "execution_count": null,
      "outputs": [
        {
          "output_type": "stream",
          "name": "stderr",
          "text": [
            "Some weights of GPT2ForSequenceClassification were not initialized from the model checkpoint at gpt2 and are newly initialized: ['score.weight']\n",
            "You should probably TRAIN this model on a down-stream task to be able to use it for predictions and inference.\n"
          ]
        },
        {
          "output_type": "stream",
          "name": "stdout",
          "text": [
            "Predicted class: 0, Probability: 0.9999922513961792\n"
          ]
        }
      ]
    },
    {
      "cell_type": "code",
      "source": [
        "# Ensure the predicted directions are in the correct shape (1D array)\n",
        "predicted_directions = predicted_directions.reshape(-1)\n",
        "\n",
        "# Check lengths\n",
        "print(f\"Length of y_test: {len(y_test)}\")\n",
        "print(f\"Length of predicted_directions: {len(predicted_directions)}\")\n",
        "\n",
        "# Calculate recall and F1 score if lengths match\n",
        "if len(y_test) == len(predicted_directions):\n",
        "    recall = recall_score(y_test, predicted_directions, average='macro')\n",
        "    f1 = f1_score(y_test, predicted_directions, average='macro')\n",
        "    print(f\"Recall: {recall:.4f}, F1 Score: {f1:.4f}\")\n",
        "else:\n",
        "    print(\"Length mismatch between y_test and predicted_directions\")\n",
        "\n"
      ],
      "metadata": {
        "colab": {
          "base_uri": "https://localhost:8080/"
        },
        "id": "h3jCrKrdzFqL",
        "outputId": "658ca6a1-3ff2-4ff9-97cd-f4d74a130411"
      },
      "execution_count": null,
      "outputs": [
        {
          "output_type": "stream",
          "name": "stdout",
          "text": [
            "Length of y_test: 71\n",
            "Length of predicted_directions: 100\n",
            "Length mismatch between y_test and predicted_directions\n"
          ]
        }
      ]
    }
  ]
}